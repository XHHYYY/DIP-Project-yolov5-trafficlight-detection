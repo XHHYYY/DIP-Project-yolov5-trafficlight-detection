{
 "cells": [
  {
   "cell_type": "code",
   "execution_count": 4,
   "metadata": {},
   "outputs": [],
   "source": [
    "import json\n",
    "\n",
    "with open('test.json', 'r', encoding='utf8') as file:\n",
    "    ori_label_list = json.load(file)\n",
    "\n",
    "w = 1280\n",
    "h = 720\n",
    "\n",
    "for image in ori_label_list:\n",
    "    if image['boxes'] == []:\n",
    "        continue\n",
    "    else:\n",
    "        for box in image['boxes']:\n",
    "            x = (box['x_max'] + box['x_min'] / 2) / w\n",
    "            y = (box['y_max'] + box['y_min'] / 2) / h\n",
    "            width = box['x_max'] - box['x_min'] / w\n",
    "            height = box['y_max'] - box['y_min'] / h\n",
    "            label = 9\n",
    "            with open()"
   ]
  },
  {
   "cell_type": "code",
   "execution_count": 7,
   "metadata": {},
   "outputs": [
    {
     "data": {
      "text/plain": [
       "'1 2 3'"
      ]
     },
     "execution_count": 7,
     "metadata": {},
     "output_type": "execute_result"
    }
   ],
   "source": [
    "' '.join(map(str, [1, 2, 3]))"
   ]
  }
 ],
 "metadata": {
  "kernelspec": {
   "display_name": "base",
   "language": "python",
   "name": "python3"
  },
  "language_info": {
   "codemirror_mode": {
    "name": "ipython",
    "version": 3
   },
   "file_extension": ".py",
   "mimetype": "text/x-python",
   "name": "python",
   "nbconvert_exporter": "python",
   "pygments_lexer": "ipython3",
   "version": "3.8.8"
  },
  "orig_nbformat": 4,
  "vscode": {
   "interpreter": {
    "hash": "88279d2366fe020547cde40dd65aa0e3aa662a6ec1f3ca12d88834876c85e1a6"
   }
  }
 },
 "nbformat": 4,
 "nbformat_minor": 2
}
