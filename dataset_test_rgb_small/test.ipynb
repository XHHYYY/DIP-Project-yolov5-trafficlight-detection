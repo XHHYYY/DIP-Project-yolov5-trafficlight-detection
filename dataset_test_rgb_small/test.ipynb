{
 "cells": [
  {
   "cell_type": "code",
   "execution_count": 6,
   "metadata": {},
   "outputs": [
    {
     "ename": "FileNotFoundError",
     "evalue": "[Errno 2] No such file or directory: './dataset_test_rgb_small/test.json'",
     "output_type": "error",
     "traceback": [
      "\u001b[1;31m---------------------------------------------------------------------------\u001b[0m",
      "\u001b[1;31mFileNotFoundError\u001b[0m                         Traceback (most recent call last)",
      "\u001b[1;32md:\\GoodGoodStudy\\Term6.0\\DIP\\Project\\dataset_test_rgb_small\\test.ipynb Cell 1\u001b[0m in \u001b[0;36m<module>\u001b[1;34m\u001b[0m\n\u001b[0;32m     <a href='vscode-notebook-cell:/d%3A/GoodGoodStudy/Term6.0/DIP/Project/dataset_test_rgb_small/test.ipynb#W0sZmlsZQ%3D%3D?line=9'>10</a>\u001b[0m H \u001b[39m=\u001b[39m \u001b[39m720\u001b[39m\n\u001b[0;32m     <a href='vscode-notebook-cell:/d%3A/GoodGoodStudy/Term6.0/DIP/Project/dataset_test_rgb_small/test.ipynb#W0sZmlsZQ%3D%3D?line=10'>11</a>\u001b[0m W_HALF \u001b[39m=\u001b[39m W \u001b[39m/\u001b[39m \u001b[39m2\u001b[39m\n\u001b[1;32m---> <a href='vscode-notebook-cell:/d%3A/GoodGoodStudy/Term6.0/DIP/Project/dataset_test_rgb_small/test.ipynb#W0sZmlsZQ%3D%3D?line=12'>13</a>\u001b[0m \u001b[39mwith\u001b[39;00m \u001b[39mopen\u001b[39;49m(\u001b[39m'\u001b[39;49m\u001b[39m./dataset_test_rgb_small/test.json\u001b[39;49m\u001b[39m'\u001b[39;49m, \u001b[39m'\u001b[39;49m\u001b[39mr\u001b[39;49m\u001b[39m'\u001b[39;49m, encoding\u001b[39m=\u001b[39;49m\u001b[39m'\u001b[39;49m\u001b[39mutf8\u001b[39;49m\u001b[39m'\u001b[39;49m) \u001b[39mas\u001b[39;00m file:\n\u001b[0;32m     <a href='vscode-notebook-cell:/d%3A/GoodGoodStudy/Term6.0/DIP/Project/dataset_test_rgb_small/test.ipynb#W0sZmlsZQ%3D%3D?line=13'>14</a>\u001b[0m     label_list \u001b[39m=\u001b[39m json\u001b[39m.\u001b[39mload(file)\n\u001b[0;32m     <a href='vscode-notebook-cell:/d%3A/GoodGoodStudy/Term6.0/DIP/Project/dataset_test_rgb_small/test.ipynb#W0sZmlsZQ%3D%3D?line=15'>16</a>\u001b[0m \u001b[39mfor\u001b[39;00m image \u001b[39min\u001b[39;00m label_list:\n",
      "\u001b[1;31mFileNotFoundError\u001b[0m: [Errno 2] No such file or directory: './dataset_test_rgb_small/test.json'"
     ]
    }
   ],
   "source": [
    "import json\n",
    "import cv2\n",
    "import os\n",
    "\n",
    "CROPPING = True\n",
    "right_list = []\n",
    "cropping_flag = False\n",
    "content = ''\n",
    "W = 1280\n",
    "H = 720\n",
    "W_HALF = W / 2\n",
    "\n",
    "with open('./dataset_test_rgb_small/test.json', 'r', encoding='utf8') as file:\n",
    "    label_list = json.load(file)\n",
    "\n",
    "for image in label_list:\n",
    "    if image['boxes'] == []:\n",
    "        continue\n",
    "    else:\n",
    "        for box in image['boxes']:\n",
    "            if CROPPING:\n",
    "                if box['x_min'] >= W/2:\n",
    "                    right_list.append(box)\n",
    "                    cropping_flag = True\n",
    "                    continue\n",
    "            x       = '{:.6f}'.format((box['x_max'] + box['x_min']) / 2 / (W_HALF if cropping_flag else W))\n",
    "            y       = '{:.6f}'.format((box['y_max'] + box['y_min']) / 2 / H)\n",
    "            width   = '{:.6f}'.format((box['x_max'] - box['x_min']) / (W_HALF if cropping_flag else W))\n",
    "            height  = '{:.6f}'.format((box['y_max'] - box['y_min']) / H)\n",
    "            label   = 9\n",
    "            content = content + ' '.join(map(str, [label, x, y, width, height])) + '\\n'\n",
    "        \n",
    "        # ! 针对是否cropping写左图的路径\n",
    "        l_filename = image['path'][-9:-4] + '_l.txt' if (CROPPING and cropping_flag) else image['path'][-9:-4] + '.txt'\n",
    "        with open('./dataset_test_rgb_small/labels/' + l_filename, 'w') as f:\n",
    "            f.write(content)\n",
    "            f.close()\n",
    "            content = ''\n",
    "        if CROPPING and cropping_flag:\n",
    "            for right_box in right_list:\n",
    "                x       = '{:.6f}'.format((box['x_max'] + box['x_min'] - 2 * W_HALF) / 2 / W_HALF)\n",
    "                y       = '{:.6f}'.format((box['y_max'] + box['y_min']) / 2 / H)\n",
    "                width   = '{:.6f}'.format((box['x_max'] - box['x_min'] - 2 * W_HALF) / W_HALF)\n",
    "                height  = '{:.6f}'.format((box['y_max'] - box['y_min']) / H)\n",
    "                label   = 9\n",
    "                content = content + ' '.join(map(str, [label, x, y, width, height])) + '\\n'\n",
    "            r_filename = image['path'][-9:-4] + '_r.txt'\n",
    "            with open('./dataset_test_rgb_small/labels/' + r_filename, 'w') as f:\n",
    "                f.write(content)\n",
    "                f.close()\n",
    "            \n",
    "            img = cv2.imread(image['path'])\n",
    "            img_l = img[:, 0:W_HALF]\n",
    "            img_r = img[:, W_HALF:]\n",
    "            \n",
    "            os.remove(image['path'])\n",
    "            cv2.imwrite(l_filename, img_l)\n",
    "            cv2.imwrite(r_filename, img_r)"
   ]
  },
  {
   "cell_type": "code",
   "execution_count": 9,
   "metadata": {},
   "outputs": [
    {
     "ename": "FileNotFoundError",
     "evalue": "[Errno 2] No such file or directory: '../dataset_test_rgb_small/labels/38756.txt'",
     "output_type": "error",
     "traceback": [
      "\u001b[1;31m---------------------------------------------------------------------------\u001b[0m",
      "\u001b[1;31mFileNotFoundError\u001b[0m                         Traceback (most recent call last)",
      "\u001b[1;32md:\\GoodGoodStudy\\Term6.0\\DIP\\Project\\dataset_test_rgb_small\\test.ipynb Cell 2\u001b[0m in \u001b[0;36m<module>\u001b[1;34m\u001b[0m\n\u001b[1;32m----> <a href='vscode-notebook-cell:/d%3A/GoodGoodStudy/Term6.0/DIP/Project/dataset_test_rgb_small/test.ipynb#W1sZmlsZQ%3D%3D?line=0'>1</a>\u001b[0m \u001b[39mwith\u001b[39;00m \u001b[39mopen\u001b[39;49m(\u001b[39m'\u001b[39;49m\u001b[39m../dataset_test_rgb_small/labels/\u001b[39;49m\u001b[39m'\u001b[39;49m \u001b[39m+\u001b[39;49m \u001b[39m'\u001b[39;49m\u001b[39m38756.txt\u001b[39;49m\u001b[39m'\u001b[39;49m, \u001b[39m'\u001b[39;49m\u001b[39mr\u001b[39;49m\u001b[39m'\u001b[39;49m) \u001b[39mas\u001b[39;00m f:\n\u001b[0;32m      <a href='vscode-notebook-cell:/d%3A/GoodGoodStudy/Term6.0/DIP/Project/dataset_test_rgb_small/test.ipynb#W1sZmlsZQ%3D%3D?line=1'>2</a>\u001b[0m     f\u001b[39m.\u001b[39mclose()\n",
      "\u001b[1;31mFileNotFoundError\u001b[0m: [Errno 2] No such file or directory: '../dataset_test_rgb_small/labels/38756.txt'"
     ]
    }
   ],
   "source": [
    "with open('../dataset_test_rgb_small/labels/' + '38756.txt', 'r') as f:\n",
    "    f.close()"
   ]
  }
 ],
 "metadata": {
  "kernelspec": {
   "display_name": "base",
   "language": "python",
   "name": "python3"
  },
  "language_info": {
   "codemirror_mode": {
    "name": "ipython",
    "version": 3
   },
   "file_extension": ".py",
   "mimetype": "text/x-python",
   "name": "python",
   "nbconvert_exporter": "python",
   "pygments_lexer": "ipython3",
   "version": "3.8.8"
  },
  "orig_nbformat": 4,
  "vscode": {
   "interpreter": {
    "hash": "88279d2366fe020547cde40dd65aa0e3aa662a6ec1f3ca12d88834876c85e1a6"
   }
  }
 },
 "nbformat": 4,
 "nbformat_minor": 2
}
